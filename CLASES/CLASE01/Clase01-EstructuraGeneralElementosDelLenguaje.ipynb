{
 "cells": [
  {
   "cell_type": "markdown",
   "metadata": {},
   "source": [
    "# 1 Nociones Generales"
   ]
  },
  {
   "cell_type": "markdown",
   "metadata": {},
   "source": [
    "### 1.1 Sintaxis\n",
    "\n",
    "Para desarrollar correctamente, debe seguir determinadas reglas, en terminos de programación lo llamamos *Sintaxis*. La sintaxis es a la programación lo que la gramática es a los idiomas. "
   ]
  },
  {
   "cell_type": "markdown",
   "metadata": {},
   "source": [
    "#### 1.1.1 Bloque de Código y la Identación\n",
    "\n",
    "Un 'bloque de código' es una sección de código con una o más declaraciones y sentencias. En python, los bloques de código se indican con sangría.  El número de espacios en la sangría es variable, pero todas las declaraciones dentro del bloque deben estar sangradas en la misma cantidad. "
   ]
  },
  {
   "cell_type": "code",
   "execution_count": null,
   "metadata": {},
   "outputs": [],
   "source": [
    "def EjecutarEjercicio8():\n",
    "    vRangoDeEntrada = input(\"Introduzca la cadena a revisar: \")\n",
    "    vResult = ''\n",
    "    for vElemento in vRangoDeEntrada:\n",
    "        if vResult.find(vElemento) == -1:\n",
    "            vResult += vElemento\n",
    "    print(\"La cadena con elementos únicos es: \", vResult)\n"
   ]
  },
  {
   "cell_type": "markdown",
   "metadata": {},
   "source": [
    "#### 1.1.2 Comentarios\n",
    "\n",
    "Un archivo además de código fuente puede incluir comentarios (notas o directivas que como programadores, indicamos en el código para poder comprenderlo mejor).\n",
    "\n",
    "Los comentarios pueden ser de dos tipos: de una sola línea o multi-línea:"
   ]
  },
  {
   "cell_type": "code",
   "execution_count": null,
   "metadata": {},
   "outputs": [],
   "source": [
    "# Esto es para mostrar como se comenta con una línea\n",
    "\n",
    "\"\"\"\n",
    "Comentario de\n",
    "varias líneas\n",
    "\n",
    "\"\"\"\n"
   ]
  },
  {
   "cell_type": "markdown",
   "metadata": {},
   "source": [
    "#### 1.1.3 Identificadores\n",
    "\n",
    "En programación, un identificador es un un nombre asignado a una variable, función, módulo o clase.  En python, un identificador puede contener letras de la A-Z, a-z, números del 0-9 y el underscore `_`.  Debe empezar con una letra o el underscore. La sintaxis python es sensible a mayúsculas/minúsculas."
   ]
  },
  {
   "cell_type": "markdown",
   "metadata": {},
   "source": [
    "#### 1.1.4 Palabras reservadas\n",
    "\n",
    "Un lenguaje de programación siempre se reserva el uso de palabras para la ejecución de tareas específicas. En python  las palabras reservadas son: ```and, assert, break, class, continue, def, del, elif, else, except, exec, finally, for, from, global, if, import, in, is, lambda, not, or, pass, print, raise, return, try, while, with, None, yield```."
   ]
  },
  {
   "cell_type": "markdown",
   "metadata": {},
   "source": [
    "### 1.2 Modos de trabajo\n",
    "\n",
    "Por otro lado, puede abordar su trabajo en Python con dos modos de trabajo, en modo interactivo y en modo script.\n",
    "\n",
    "**Modo interactivo**: Trabajará en este modo tipeando `python3` en la línea de comandos. Una vez puesto en marcha, ya podrá ejecutar órdenes en tiempo real."
   ]
  },
  {
   "cell_type": "code",
   "execution_count": null,
   "metadata": {},
   "outputs": [],
   "source": [
    "carlosfranz@cbatalla-laptop:~> python3\n",
    "Python 3.6.12 (default, Dec 02 2020, 09:44:23) [GCC] on linux\n",
    "Type \"help\", \"copyright\", \"credits\" or \"license\" for more information.\n",
    ">>> print(\"hola prog1\")\n",
    "hola prog1\n",
    ">>> "
   ]
  },
  {
   "cell_type": "markdown",
   "metadata": {},
   "source": [
    "**Modo script**: Desde su Sistema Operativo, cree un archivo ejecutable con la extensión 'py', escriba el código en Python y ejecutelo con el intérprete. Esto es un 'script'.\n",
    "\n",
    "Al invocar al intérprete con un parámetro de script, se inicia la ejecución del script y continúa hasta que el script finaliza. Cuando el script termina, el intérprete ya no está activo.\n",
    "\n",
    "Resultará mucho más sencillo utilizar un script con todas las órdenes a ejecutar. Así, en la línea de comandos en la carpeta donde se encuentra el script, lo ejecuta con la orden `nombredelscript.py`."
   ]
  },
  {
   "cell_type": "code",
   "execution_count": null,
   "metadata": {},
   "outputs": [],
   "source": [
    "carlosfranz@cbatalla-laptop:~/Documents/MyCode> python3 mvc.py \n",
    "Tipee el nro. de axioma que quiere ver: 3\n",
    "y el axioma es:  Todas las rectas tienen una cantidad infinita de puntos."
   ]
  },
  {
   "cell_type": "markdown",
   "metadata": {},
   "source": [
    "### 1.3 Tipos de Datos\n",
    "\n",
    "Un sistema/App necesita almacenar datos de distintos tipos. Python le ofrece estos tipos de datos:\n",
    "\n",
    "\n",
    "| Categoría tipo de Dato | Tipo | Descripción |\n",
    "| ----------- | ----------- |----------- |\n",
    "| Texto |  String (str) | Secuencia de carácteres.\n",
    "| Numérico | Entero (int) | Valores enteros.\n",
    "| Numérico | Real (float)| Valores reales.\n",
    "| Numérico | Complejo (complex)| Numeros Complejos.\n",
    "| Secuencia | Lista (list)| Conjunto de valores mutable.\n",
    "| Secuencia |Tupla(tuple)| Conjunto de valores no mutable.\n",
    "| Booleano | Booleano (bool)| Solo puede ser Verdad (True) o Falso (False).\n",
    "| Secuencia |Rango(range)| Conjunto de valores de inicio-finale definibles.\n",
    "| De Mapeado | Diccionario (dict) | Conjunto de datos de la forma clave:valor."
   ]
  },
  {
   "cell_type": "markdown",
   "metadata": {},
   "source": [
    "### 1.4 Operadores\n",
    "\n",
    "En programación, los operadores son literales que ejecutan una operación lógica, relacional o matemática sobre los operandos.  En python tenemos estos tipos de operadores:\n",
    "\n",
    "#### 1.4.1 Aritméticos \n",
    "\n",
    "| Nombre | Símbolo |\n",
    "| ----------- | ----------- |\n",
    "|Suma|+| \n",
    "|Resta|-|\n",
    "|Multiplicación|*|\n",
    "|División|/|\n",
    "|División Entera|//|\n",
    "|Módulo|%|\n",
    "|Exponente|**|\n",
    "\n",
    "#### 1.4.2 Lógicos \n",
    "| Nombre | Símbolo | Funcionalidad |\n",
    "| ----------- | ----------- |----------- |\n",
    "|AND|and|Si ambos operandos son ciertos, la condición es cierta|\n",
    "|OR|or|Si algún operando es cierto, la condición es cierta|\n",
    "|NOT|not|Niega la condición actual del operando|\n",
    "\n",
    "#### 1.4.3 De comparación\n",
    "| Nombre | Símbolo | Funcionalidad \n",
    "| ----------- | ----------- |----------- |\n",
    "|Igualdad|==|Es verdadero si un operando es igual al otro|\n",
    "|Diferencia|!=|Es verdadero si un operando no es igual al otro|\n",
    "|Mayor que|>|Es verdadero si un operando es mayor que otro |\n",
    "|Menor que|<|Es verdadero si un operando es menor que otro |\n",
    "|Mayor o Igual a|>=|Es verdadero si un operando es mayor o igual que otro |\n",
    "|Menor o Igual a|<=|Es verdadero si un operando es menor o igual que otro |\n",
    "\n",
    "#### 1.4.4 De asignación \n",
    "| Nombre | Símbolo | Funcionalidad \n",
    "| ----------- | ----------- |----------- |\n",
    "|Asignación|=||\n",
    "|Suma y Asignación|+=|Suma el valor del operando de la derecha al valor actual del operando de la izquierda.|\n",
    "|Resta y Asignación|-=|Resta el valor del operando de la derecha al valor actual del operando de la izquierda.|\n",
    "|Producto y Asignación|*=|Multiplica el valor del operando de la derecha al valor actual del operando de la izquierda.|\n",
    "|División y Asignación|/=|Divide el valor del operando de la derecha al valor actual del operando de la izquierda.|\n",
    "\n",
    "#### 1.4.5 De Membresía \n",
    "| Nombre | Símbolo | Funcionalidad \n",
    "| ----------- | ----------- |----------- |\n",
    "|Esta en|in|Es verdadero si el valor almacenado en el operando existe en una secuencia|\n",
    "|No esta en|not in|Es verdadero si el valor almacenado en el operando no existe en una secuencia|"
   ]
  },
  {
   "cell_type": "markdown",
   "metadata": {},
   "source": [
    "### 1.5 Variables\n",
    "\n",
    "Es un espacio en la memoria que almacena datos modificables.  Para la manipulación de esta entidad, debe asignarle un nombre con el operador `=`.  A la izquierda del operador va el nombre de la variable, a la derecha el valor que le asigne.\n",
    "\n",
    "`nombre_de_la_variable = valor_de_la_variable`\n",
    "\n",
    "Ejemplos:\n",
    "\n",
    "Creación de la variable tipo String `vMateria` con el valor de `Programacion 1`.\n",
    "\n",
    "`vMateria = 'Programacion 1\"`\n",
    "\n",
    "\n",
    "Creación de la variable tipo Entero `vEdad` con el valor de `22`.\n",
    "\n",
    "`vEdad = 22`\n",
    "\n",
    "Creación de variables multiples.\n",
    "\n",
    "`vNota = vCantidadDeAviones = vMinimaEdadParaManejar = 16 `\n",
    "\n",
    "Creación de la variable tipo Float `vPeso` con el valor de `10.5`.\n",
    "\n",
    "`vPeso = 10.5`\n"
   ]
  },
  {
   "cell_type": "markdown",
   "metadata": {},
   "source": [
    "## Actividades (Evaluadas 2pts.)\n",
    "Suba a su repositorio su primer desarrollo Python, que tendrá las siguientes características:\n",
    "- Cree una variable que almacene su *nombre_completo*.\n",
    "- Imprima en pantalla el mensaje: 'Hola Prog1, soy *nombre_completo*.\n",
    "\n",
    "Fecha tope de entrega: Miércoles 16 de Marzo.  Hora 4:30pm.\n",
    "\n",
    "**Nota**: El proceso de enviar código a un repositorio git comprende una secuencia de instrucciones que escapan al ambito de estudio de esta cátedra, sin embargo es importante dominarlo.  Por ahora, intente subir su codigo desde la utilidad web de github para esto."
   ]
  }
 ],
 "metadata": {
  "language_info": {
   "name": "python"
  },
  "orig_nbformat": 4
 },
 "nbformat": 4,
 "nbformat_minor": 2
}
